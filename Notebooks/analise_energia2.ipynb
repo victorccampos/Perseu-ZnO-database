{
 "cells": [
  {
   "cell_type": "code",
   "execution_count": 1,
   "id": "6b7d42e0",
   "metadata": {},
   "outputs": [],
   "source": [
    "import numpy as np\n",
    "import pandas as pd\n",
    "import matplotlib.pyplot as plt\n",
    "import re\n",
    "from pathlib import Path"
   ]
  },
  {
   "cell_type": "code",
   "execution_count": 2,
   "id": "8508e921",
   "metadata": {},
   "outputs": [],
   "source": [
    "# Diretórios com outputs\n",
    "output_dir = Path('../SCFs_rnd.out/')"
   ]
  },
  {
   "cell_type": "code",
   "execution_count": 3,
   "id": "bf86319a",
   "metadata": {},
   "outputs": [],
   "source": [
    "with open(file=output_dir / 'energias.dat', mode='r') as f:\n",
    "    linhas = f.readlines()"
   ]
  },
  {
   "cell_type": "code",
   "execution_count": null,
   "id": "8419ec28",
   "metadata": {},
   "outputs": [],
   "source": [
    "arquivos = sorted(output_dir.glob('scf-*.out')) # : list[PosixPath()]\n",
    "\n",
    "if len(arquivos) != len(linhas):\n",
    "    raise ValueError(\"Nº linhas em energias.dat diferente do nº de inputs\")"
   ]
  },
  {
   "cell_type": "code",
   "execution_count": 5,
   "id": "10e1b651",
   "metadata": {},
   "outputs": [],
   "source": [
    "dados = [] # list[Dict] para DataFrame\n",
    "\n",
    "for linha, arquivo in zip(linhas, arquivos):\n",
    "    match_energia = re.search(r'=\\s+(-?\\d+\\.\\d+)', linha)\n",
    "    \n",
    "    # Energia dos arquivos.\n",
    "    energia = float(match_energia.group(1)) if match_energia else None\n",
    "    \n",
    "    # Parâmetros estruturais via nome do arquivo\n",
    "    match_nome = re.match(r'scf-([0-9.]+)-([0-9.]+)-(\\d+)\\.out', arquivo.name)\n",
    "    if match_nome:\n",
    "        a = float(match_nome.group(1))\n",
    "        ratio_ca = float(match_nome.group(2))\n",
    "        num_estrutura = int(match_nome.group(3))\n",
    "    else:\n",
    "        raise ValueError(f'Nome de arquivo não reconhecido: {arquivo.name}')\n",
    "    \n",
    "    dados.append(\n",
    "        {\n",
    "        'Energia Total (Ry)': energia,\n",
    "        'a': a,\n",
    "        'ratio c/a': ratio_ca,\n",
    "        'num_estrutura': num_estrutura,\n",
    "        'nome_arquivo': arquivo.name\n",
    "        }\n",
    "        )\n"
   ]
  },
  {
   "cell_type": "code",
   "execution_count": 6,
   "id": "9d24a8b2",
   "metadata": {},
   "outputs": [],
   "source": [
    "df = pd.DataFrame(dados)\n",
    "df"
   ]
  },
  {
   "cell_type": "code",
   "execution_count": 7,
   "id": "c24ba510",
   "metadata": {},
   "outputs": [],
   "source": [
    "# Agrupando por estrutura\n",
    "df1 = df[df['num_estrutura'] == 1]\n",
    "df2 = df[df['num_estrutura'] == 2]\n",
    "df3 = df[df['num_estrutura'] == 3]\n",
    "df4 = df[df['num_estrutura'] == 4]\n",
    "df5 = df[df['num_estrutura'] == 5]\n",
    "\n",
    "lista_dfs = [df1, df2, df3,df4,df5]"
   ]
  },
  {
   "cell_type": "code",
   "execution_count": 8,
   "id": "3d281c79",
   "metadata": {},
   "outputs": [],
   "source": [
    "estruturas = df['num_estrutura'].unique()\n",
    "estruturas"
   ]
  },
  {
   "cell_type": "code",
   "execution_count": 10,
   "id": "7dfc0fdd",
   "metadata": {},
   "outputs": [],
   "source": [
    "fig, axes = plt.subplots(\n",
    "    nrows=5, \n",
    "    ncols=1,\n",
    "    figsize=(10,15),\n",
    "    sharey=True\n",
    ")\n",
    " # [1,2,3,4,5]\n",
    "\n",
    "for df, estrutura in zip(lista_dfs, estruturas):\n",
    "    \n",
    "    idx_axes_estrutura = estrutura-1 \n",
    "    axes[idx_axes_estrutura].scatter(df.index, df['Energia Total (Ry)'])\n",
    "    axes[idx_axes_estrutura].set_title(f'Estrutura {idx_axes_estrutura+1}')\n",
    "\n",
    "\n",
    "fig.suptitle('Energia em função de (a, c/a) para cada estrutura', fontsize=18)\n",
    "plt.tight_layout()\n",
    "plt.show()"
   ]
  }
 ],
 "metadata": {
  "kernelspec": {
   "display_name": "base",
   "language": "python",
   "name": "python3"
  },
  "language_info": {
   "codemirror_mode": {
    "name": "ipython",
    "version": 3
   },
   "file_extension": ".py",
   "mimetype": "text/x-python",
   "name": "python",
   "nbconvert_exporter": "python",
   "pygments_lexer": "ipython3",
   "version": "3.11.5"
  }
 },
 "nbformat": 4,
 "nbformat_minor": 5
}
